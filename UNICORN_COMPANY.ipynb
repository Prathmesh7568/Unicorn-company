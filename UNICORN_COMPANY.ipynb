{
 "cells": [
  {
   "cell_type": "markdown",
   "id": "b9c5af03",
   "metadata": {},
   "source": [
    "#                                             UNICORN COMPANY"
   ]
  },
  {
   "cell_type": "markdown",
   "id": "1f175a61",
   "metadata": {},
   "source": [
    "## Author : Prathmesh Mhatre"
   ]
  },
  {
   "cell_type": "markdown",
   "id": "902a9ebf",
   "metadata": {},
   "source": [
    "## Problem Statement \n",
    "                1.Which are the top ten countries with the most startups? Which are the top three?\n",
    "                2.Which are the ten cities with the most startups? Which are the top three?\n",
    "                3.How many Unicorns are there in each industry?\n",
    "                4.Which are the most valuable unicorns? Which are the deacorns?\n",
    "                5.How many companies have joined the club of unicorns each year? In which year do we have the most unicorns?\n",
    "                6.What is the Global unicorn activity by industry"
   ]
  },
  {
   "cell_type": "code",
   "execution_count": 25,
   "id": "2d77c7c7",
   "metadata": {},
   "outputs": [],
   "source": [
    "import numpy as np\n",
    "import pandas as pd\n",
    "import seaborn as sns\n",
    "from matplotlib import pyplot as plt\n",
    "\n",
    "from warnings import filterwarnings\n",
    "filterwarnings('ignore')\n",
    "\n",
    "# helpful modules\n",
    "import fuzzywuzzy\n",
    "from fuzzywuzzy import process\n",
    "import chardet"
   ]
  },
  {
   "cell_type": "code",
   "execution_count": 26,
   "id": "b929186a",
   "metadata": {},
   "outputs": [],
   "source": [
    "df=pd.read_csv('Unicorn_Companies.csv')"
   ]
  },
  {
   "cell_type": "code",
   "execution_count": 27,
   "id": "46631126",
   "metadata": {},
   "outputs": [
    {
     "data": {
      "text/html": [
       "<div>\n",
       "<style scoped>\n",
       "    .dataframe tbody tr th:only-of-type {\n",
       "        vertical-align: middle;\n",
       "    }\n",
       "\n",
       "    .dataframe tbody tr th {\n",
       "        vertical-align: top;\n",
       "    }\n",
       "\n",
       "    .dataframe thead th {\n",
       "        text-align: right;\n",
       "    }\n",
       "</style>\n",
       "<table border=\"1\" class=\"dataframe\">\n",
       "  <thead>\n",
       "    <tr style=\"text-align: right;\">\n",
       "      <th></th>\n",
       "      <th>Company</th>\n",
       "      <th>Valuation_B$</th>\n",
       "      <th>Date Joined</th>\n",
       "      <th>Industry</th>\n",
       "      <th>City</th>\n",
       "      <th>Country</th>\n",
       "      <th>Continent</th>\n",
       "      <th>Year Founded</th>\n",
       "      <th>Funding</th>\n",
       "      <th>Select Investors</th>\n",
       "    </tr>\n",
       "  </thead>\n",
       "  <tbody>\n",
       "    <tr>\n",
       "      <th>0</th>\n",
       "      <td>Bytedance</td>\n",
       "      <td>180</td>\n",
       "      <td>07-04-2017</td>\n",
       "      <td>Artificial intelligence</td>\n",
       "      <td>Beijing</td>\n",
       "      <td>China</td>\n",
       "      <td>Asia</td>\n",
       "      <td>2012</td>\n",
       "      <td>8.0</td>\n",
       "      <td>Sequoia Capital China, SIG Asia Investments, S...</td>\n",
       "    </tr>\n",
       "    <tr>\n",
       "      <th>1</th>\n",
       "      <td>SpaceX</td>\n",
       "      <td>100</td>\n",
       "      <td>01-12-2012</td>\n",
       "      <td>Other</td>\n",
       "      <td>Hawthorne</td>\n",
       "      <td>United States</td>\n",
       "      <td>North America</td>\n",
       "      <td>2002</td>\n",
       "      <td>7.0</td>\n",
       "      <td>Founders Fund, Draper Fisher Jurvetson, Rothen...</td>\n",
       "    </tr>\n",
       "  </tbody>\n",
       "</table>\n",
       "</div>"
      ],
      "text/plain": [
       "     Company  Valuation_B$ Date Joined                 Industry       City  \\\n",
       "0  Bytedance           180  07-04-2017  Artificial intelligence    Beijing   \n",
       "1     SpaceX           100  01-12-2012                    Other  Hawthorne   \n",
       "\n",
       "         Country      Continent  Year Founded  Funding  \\\n",
       "0          China           Asia          2012      8.0   \n",
       "1  United States  North America          2002      7.0   \n",
       "\n",
       "                                    Select Investors  \n",
       "0  Sequoia Capital China, SIG Asia Investments, S...  \n",
       "1  Founders Fund, Draper Fisher Jurvetson, Rothen...  "
      ]
     },
     "execution_count": 27,
     "metadata": {},
     "output_type": "execute_result"
    }
   ],
   "source": [
    "df.head(2)"
   ]
  },
  {
   "cell_type": "code",
   "execution_count": 28,
   "id": "86a82550",
   "metadata": {},
   "outputs": [
    {
     "name": "stdout",
     "output_type": "stream",
     "text": [
      "<class 'pandas.core.frame.DataFrame'>\n",
      "RangeIndex: 1074 entries, 0 to 1073\n",
      "Data columns (total 10 columns):\n",
      " #   Column            Non-Null Count  Dtype  \n",
      "---  ------            --------------  -----  \n",
      " 0   Company           1074 non-null   object \n",
      " 1   Valuation_B$      1074 non-null   int64  \n",
      " 2   Date Joined       1074 non-null   object \n",
      " 3   Industry          1074 non-null   object \n",
      " 4   City              1058 non-null   object \n",
      " 5   Country           1074 non-null   object \n",
      " 6   Continent         1074 non-null   object \n",
      " 7   Year Founded      1074 non-null   int64  \n",
      " 8   Funding           1074 non-null   float64\n",
      " 9   Select Investors  1073 non-null   object \n",
      "dtypes: float64(1), int64(2), object(7)\n",
      "memory usage: 84.0+ KB\n"
     ]
    }
   ],
   "source": [
    "df.info()"
   ]
  },
  {
   "cell_type": "code",
   "execution_count": 29,
   "id": "584468ad",
   "metadata": {},
   "outputs": [],
   "source": [
    "df.rename(columns={\"Date Joined\":\"Date_Joined\", \"Select Investors\":\"Select_Investors\",\"Year Founded\" :\"Year_Founded\"}, inplace=True)"
   ]
  },
  {
   "cell_type": "code",
   "execution_count": 30,
   "id": "b0161867",
   "metadata": {
    "scrolled": true
   },
   "outputs": [
    {
     "data": {
      "text/plain": [
       "Company              0\n",
       "Valuation_B$         0\n",
       "Date_Joined          0\n",
       "Industry             0\n",
       "City                16\n",
       "Country              0\n",
       "Continent            0\n",
       "Year_Founded         0\n",
       "Funding              0\n",
       "Select_Investors     1\n",
       "dtype: int64"
      ]
     },
     "execution_count": 30,
     "metadata": {},
     "output_type": "execute_result"
    }
   ],
   "source": [
    "df.isna().sum() # showing the number of NaN values"
   ]
  },
  {
   "cell_type": "code",
   "execution_count": 31,
   "id": "a525e68d",
   "metadata": {},
   "outputs": [
    {
     "name": "stdout",
     "output_type": "stream",
     "text": [
      "Singapore    12\n",
      "Hong Kong     3\n",
      "Bahamas       1\n",
      "Name: Country, dtype: int64\n"
     ]
    },
    {
     "data": {
      "text/html": [
       "<div>\n",
       "<style scoped>\n",
       "    .dataframe tbody tr th:only-of-type {\n",
       "        vertical-align: middle;\n",
       "    }\n",
       "\n",
       "    .dataframe tbody tr th {\n",
       "        vertical-align: top;\n",
       "    }\n",
       "\n",
       "    .dataframe thead th {\n",
       "        text-align: right;\n",
       "    }\n",
       "</style>\n",
       "<table border=\"1\" class=\"dataframe\">\n",
       "  <thead>\n",
       "    <tr style=\"text-align: right;\">\n",
       "      <th></th>\n",
       "      <th>Company</th>\n",
       "      <th>Country</th>\n",
       "      <th>City</th>\n",
       "    </tr>\n",
       "  </thead>\n",
       "  <tbody>\n",
       "    <tr>\n",
       "      <th>12</th>\n",
       "      <td>FTX</td>\n",
       "      <td>Bahamas</td>\n",
       "      <td>NaN</td>\n",
       "    </tr>\n",
       "    <tr>\n",
       "      <th>170</th>\n",
       "      <td>HyalRoute</td>\n",
       "      <td>Singapore</td>\n",
       "      <td>NaN</td>\n",
       "    </tr>\n",
       "    <tr>\n",
       "      <th>242</th>\n",
       "      <td>Moglix</td>\n",
       "      <td>Singapore</td>\n",
       "      <td>NaN</td>\n",
       "    </tr>\n",
       "  </tbody>\n",
       "</table>\n",
       "</div>"
      ],
      "text/plain": [
       "       Company    Country City\n",
       "12         FTX    Bahamas  NaN\n",
       "170  HyalRoute  Singapore  NaN\n",
       "242     Moglix  Singapore  NaN"
      ]
     },
     "execution_count": 31,
     "metadata": {},
     "output_type": "execute_result"
    }
   ],
   "source": [
    "empt_city_mask = df.loc[:,\"City\"].isna() #creating a mask to filter our data\n",
    "nan_city = df.loc[empt_city_mask, [\"Company\",\"Country\", \"City\"]] # excrating the exact NaN values\n",
    "print(nan_city[\"Country\"].value_counts())\n",
    "nan_city.head(3)"
   ]
  },
  {
   "cell_type": "code",
   "execution_count": 32,
   "id": "75a9332b",
   "metadata": {},
   "outputs": [
    {
     "data": {
      "text/plain": [
       "0"
      ]
     },
     "execution_count": 32,
     "metadata": {},
     "output_type": "execute_result"
    }
   ],
   "source": [
    "# 2. using fillna() and replacing our values\n",
    "\n",
    "df.loc[:, \"City\"].fillna(df.loc[:, \"Country\"], inplace=True)\n",
    "\n",
    "# now we have to change the three city seperately:\n",
    "df[\"City\"][10] = \"Nassau\"\n",
    "df[\"City\"][314] = \"Singapore\"\n",
    "df[\"City\"][928] = \"Sheung Wan\"\n",
    "\n",
    "df.loc[:,\"City\"].isna().sum()"
   ]
  },
  {
   "cell_type": "markdown",
   "id": "2e22d050",
   "metadata": {},
   "source": [
    "We do the same for the last NaN value In Investors columns"
   ]
  },
  {
   "cell_type": "code",
   "execution_count": 33,
   "id": "98d900d1",
   "metadata": {},
   "outputs": [
    {
     "name": "stdout",
     "output_type": "stream",
     "text": [
      "LinkSure Network    1\n",
      "Name: Company, dtype: int64\n"
     ]
    },
    {
     "data": {
      "text/html": [
       "<div>\n",
       "<style scoped>\n",
       "    .dataframe tbody tr th:only-of-type {\n",
       "        vertical-align: middle;\n",
       "    }\n",
       "\n",
       "    .dataframe tbody tr th {\n",
       "        vertical-align: top;\n",
       "    }\n",
       "\n",
       "    .dataframe thead th {\n",
       "        text-align: right;\n",
       "    }\n",
       "</style>\n",
       "<table border=\"1\" class=\"dataframe\">\n",
       "  <thead>\n",
       "    <tr style=\"text-align: right;\">\n",
       "      <th></th>\n",
       "      <th>Company</th>\n",
       "      <th>Valuation_B$</th>\n",
       "      <th>Date_Joined</th>\n",
       "      <th>Industry</th>\n",
       "      <th>City</th>\n",
       "      <th>Country</th>\n",
       "      <th>Continent</th>\n",
       "      <th>Year_Founded</th>\n",
       "      <th>Funding</th>\n",
       "      <th>Select_Investors</th>\n",
       "    </tr>\n",
       "  </thead>\n",
       "  <tbody>\n",
       "    <tr>\n",
       "      <th>629</th>\n",
       "      <td>LinkSure Network</td>\n",
       "      <td>1</td>\n",
       "      <td>01-01-2015</td>\n",
       "      <td>Mobile &amp; telecommunications</td>\n",
       "      <td>Shanghai</td>\n",
       "      <td>China</td>\n",
       "      <td>Asia</td>\n",
       "      <td>2013</td>\n",
       "      <td>0.052</td>\n",
       "      <td>NaN</td>\n",
       "    </tr>\n",
       "  </tbody>\n",
       "</table>\n",
       "</div>"
      ],
      "text/plain": [
       "              Company  Valuation_B$ Date_Joined                     Industry  \\\n",
       "629  LinkSure Network             1  01-01-2015  Mobile & telecommunications   \n",
       "\n",
       "         City Country Continent  Year_Founded  Funding Select_Investors  \n",
       "629  Shanghai   China      Asia          2013    0.052              NaN  "
      ]
     },
     "execution_count": 33,
     "metadata": {},
     "output_type": "execute_result"
    }
   ],
   "source": [
    "df[\"Select_Investors\"].isna().sum()\n",
    "empt_invest_mask = df.loc[:,\"Select_Investors\"].isna()\n",
    "nan_invest = df.loc[empt_invest_mask, :]\n",
    "print(nan_invest[\"Company\"].value_counts())\n",
    "nan_invest"
   ]
  },
  {
   "cell_type": "code",
   "execution_count": 34,
   "id": "f52b05cc",
   "metadata": {},
   "outputs": [],
   "source": [
    "df[\"Select_Investors\"][629] = \"Haitong Kaiyuan Investment, Northern Light Venture Capital, and Undisclosed Investors\" "
   ]
  },
  {
   "cell_type": "code",
   "execution_count": 35,
   "id": "7d0aef2e",
   "metadata": {},
   "outputs": [],
   "source": [
    "df.loc[:, \"Date_Joined\"] = pd.to_datetime(df.loc[:, \"Date_Joined\"], format=\"%d-%m-%Y\", )\n",
    "# df.info()"
   ]
  },
  {
   "cell_type": "code",
   "execution_count": 36,
   "id": "8f46161b",
   "metadata": {},
   "outputs": [
    {
     "name": "stdout",
     "output_type": "stream",
     "text": [
      "[('Gusto', 100), ('Gousto', 91)]\n",
      "[('Upgrade', 100), ('UpGrad', 92)]\n",
      "[('SSENSE', 100), ('Sisense', 92)]\n",
      "[('Gousto', 100), ('Gusto', 91)]\n",
      "[('fabric', 100), ('Fabric', 100)]\n",
      "[('UpGrad', 100), ('Upgrade', 92)]\n",
      "[('Sisense', 100), ('SSENSE', 92)]\n",
      "[('fabric', 100), ('Fabric', 100)]\n",
      "[('Hangzhou', 100), ('Changzhou', 94)]\n",
      "[('Changzhou', 100), ('Hangzhou', 94)]\n",
      "[('Artificial intelligence', 100), ('Artificial Intelligence', 100)]\n",
      "[('Artificial intelligence', 100), ('Artificial Intelligence', 100)]\n"
     ]
    }
   ],
   "source": [
    "cols = [\"Company\", \"Country\", \"City\", \"Industry\"]\n",
    "\n",
    "for col in cols: # a foor loop to check all the columns\n",
    "    check = df[col].unique()\n",
    "    for name in check:  \n",
    "        matches = fuzzywuzzy.process.extract(name, check, limit=2, scorer=fuzzywuzzy.fuzz.token_sort_ratio)\n",
    "        if matches[1][1] > 90:\n",
    "            print(matches)"
   ]
  },
  {
   "cell_type": "markdown",
   "id": "db5d8bf9",
   "metadata": {},
   "source": [
    "It we have only in the Industry column dupplicates value and in four categories: Artificial intelligence', Auto & transportation, Cybersecurity and Consumer & retail"
   ]
  },
  {
   "cell_type": "code",
   "execution_count": 37,
   "id": "c56de16e",
   "metadata": {},
   "outputs": [
    {
     "data": {
      "text/plain": [
       "Fintech                                224\n",
       "Internet software & services           205\n",
       "E-commerce & direct-to-consumer        111\n",
       "Health                                  74\n",
       "Artificial intelligence                 73\n",
       "Other                                   58\n",
       "Supply chain, logistics, & delivery     57\n",
       "Cybersecurity                           50\n",
       "Data management & analytics             41\n",
       "Mobile & telecommunications             38\n",
       "Hardware                                34\n",
       "Auto & transportation                   31\n",
       "Edtech                                  28\n",
       "Consumer & retail                       25\n",
       "Travel                                  14\n",
       "Artificial Intelligence                 11\n",
       "Name: Industry, dtype: int64"
      ]
     },
     "execution_count": 37,
     "metadata": {},
     "output_type": "execute_result"
    }
   ],
   "source": [
    "df[\"Industry\"].value_counts()"
   ]
  },
  {
   "cell_type": "code",
   "execution_count": 38,
   "id": "18f00de0",
   "metadata": {},
   "outputs": [],
   "source": [
    "\n",
    "def replace_matches_in_column(df, column, string_to_match, min_ratio = 80):\n",
    "    \"\"\"\n",
    "     function to replace rows in the provided column of the provided dataframe\n",
    "     that match the provided string above the provided ratio with the provided string\n",
    "    \"\"\"\n",
    "    # get a list of unique strings\n",
    "    strings = df[column].unique()\n",
    "    \n",
    "    # get the top 10 closest matches to our input string\n",
    "    matches = fuzzywuzzy.process.extract(string_to_match, strings, \n",
    "                                         limit=10, scorer=fuzzywuzzy.fuzz.token_sort_ratio)\n",
    "\n",
    "    # only get matches with a ratio > 90\n",
    "    close_matches = [matches[0] for matches in matches if matches[1] >= min_ratio]\n",
    "\n",
    "    # get the rows of all the close matches in our dataframe\n",
    "    rows_with_matches = df[column].isin(close_matches)\n",
    "\n",
    "    # replace all rows with close matches with the input matches \n",
    "    df.loc[rows_with_matches, column] = string_to_match"
   ]
  },
  {
   "cell_type": "code",
   "execution_count": 39,
   "id": "dc83b7e0",
   "metadata": {},
   "outputs": [],
   "source": [
    "# 3.witn str.lower , str.strip and fuzzywuzzy and\n",
    "industries = df[\"Industry\"].unique()\n",
    "for industry in industries:\n",
    "    replace_matches_in_column(df=df, column=\"Industry\", string_to_match=industry)"
   ]
  },
  {
   "cell_type": "code",
   "execution_count": 40,
   "id": "657470d2",
   "metadata": {},
   "outputs": [
    {
     "data": {
      "text/plain": [
       "Fintech                                224\n",
       "Internet software & services           205\n",
       "E-commerce & direct-to-consumer        111\n",
       "Artificial Intelligence                 84\n",
       "Health                                  74\n",
       "Other                                   58\n",
       "Supply chain, logistics, & delivery     57\n",
       "Cybersecurity                           50\n",
       "Data management & analytics             41\n",
       "Mobile & telecommunications             38\n",
       "Hardware                                34\n",
       "Auto & transportation                   31\n",
       "Edtech                                  28\n",
       "Consumer & retail                       25\n",
       "Travel                                  14\n",
       "Name: Industry, dtype: int64"
      ]
     },
     "execution_count": 40,
     "metadata": {},
     "output_type": "execute_result"
    }
   ],
   "source": [
    "df[\"Industry\"].value_counts()"
   ]
  },
  {
   "cell_type": "raw",
   "id": "34312c36",
   "metadata": {},
   "source": [
    "# We can see the difference between the number of each Industry. Next i want to add year, month and day of Date Joined in seperate columns, to do that i will use: apply(lambda)"
   ]
  },
  {
   "cell_type": "code",
   "execution_count": 41,
   "id": "9cf34693",
   "metadata": {},
   "outputs": [
    {
     "data": {
      "text/html": [
       "<div>\n",
       "<style scoped>\n",
       "    .dataframe tbody tr th:only-of-type {\n",
       "        vertical-align: middle;\n",
       "    }\n",
       "\n",
       "    .dataframe tbody tr th {\n",
       "        vertical-align: top;\n",
       "    }\n",
       "\n",
       "    .dataframe thead th {\n",
       "        text-align: right;\n",
       "    }\n",
       "</style>\n",
       "<table border=\"1\" class=\"dataframe\">\n",
       "  <thead>\n",
       "    <tr style=\"text-align: right;\">\n",
       "      <th></th>\n",
       "      <th>Company</th>\n",
       "      <th>Valuation_B$</th>\n",
       "      <th>Date_Joined</th>\n",
       "      <th>Industry</th>\n",
       "      <th>City</th>\n",
       "      <th>Country</th>\n",
       "      <th>Continent</th>\n",
       "      <th>Year_Founded</th>\n",
       "      <th>Funding</th>\n",
       "      <th>Select_Investors</th>\n",
       "      <th>year</th>\n",
       "      <th>month</th>\n",
       "      <th>day</th>\n",
       "    </tr>\n",
       "  </thead>\n",
       "  <tbody>\n",
       "    <tr>\n",
       "      <th>0</th>\n",
       "      <td>Bytedance</td>\n",
       "      <td>180</td>\n",
       "      <td>2017-04-07</td>\n",
       "      <td>Artificial Intelligence</td>\n",
       "      <td>Beijing</td>\n",
       "      <td>China</td>\n",
       "      <td>Asia</td>\n",
       "      <td>2012</td>\n",
       "      <td>8.0</td>\n",
       "      <td>Sequoia Capital China, SIG Asia Investments, S...</td>\n",
       "      <td>2017</td>\n",
       "      <td>4</td>\n",
       "      <td>7</td>\n",
       "    </tr>\n",
       "    <tr>\n",
       "      <th>1</th>\n",
       "      <td>SpaceX</td>\n",
       "      <td>100</td>\n",
       "      <td>2012-12-01</td>\n",
       "      <td>Other</td>\n",
       "      <td>Hawthorne</td>\n",
       "      <td>United States</td>\n",
       "      <td>North America</td>\n",
       "      <td>2002</td>\n",
       "      <td>7.0</td>\n",
       "      <td>Founders Fund, Draper Fisher Jurvetson, Rothen...</td>\n",
       "      <td>2012</td>\n",
       "      <td>12</td>\n",
       "      <td>1</td>\n",
       "    </tr>\n",
       "  </tbody>\n",
       "</table>\n",
       "</div>"
      ],
      "text/plain": [
       "     Company  Valuation_B$ Date_Joined                 Industry       City  \\\n",
       "0  Bytedance           180  2017-04-07  Artificial Intelligence    Beijing   \n",
       "1     SpaceX           100  2012-12-01                    Other  Hawthorne   \n",
       "\n",
       "         Country      Continent  Year_Founded  Funding  \\\n",
       "0          China           Asia          2012      8.0   \n",
       "1  United States  North America          2002      7.0   \n",
       "\n",
       "                                    Select_Investors  year  month  day  \n",
       "0  Sequoia Capital China, SIG Asia Investments, S...  2017      4    7  \n",
       "1  Founders Fund, Draper Fisher Jurvetson, Rothen...  2012     12    1  "
      ]
     },
     "execution_count": 41,
     "metadata": {},
     "output_type": "execute_result"
    }
   ],
   "source": [
    "#getting the joined year, month and day \n",
    "df['year'] = df['Date_Joined'].apply(lambda datetime: datetime.year)\n",
    "df[\"month\"] = df['Date_Joined'].apply(lambda datetime: datetime.month)\n",
    "df[\"day\"] = df['Date_Joined'].apply(lambda datetime: datetime.day)\n",
    "df.head(2)"
   ]
  },
  {
   "cell_type": "markdown",
   "id": "a91bc243",
   "metadata": {},
   "source": [
    "#### Now our DataFrame is modified and cleaned up! So it is ready to explore!!!"
   ]
  },
  {
   "cell_type": "markdown",
   "id": "c8e99685",
   "metadata": {},
   "source": [
    "#### 1.Which are the top ten countries with the most startups? Which are the top three?"
   ]
  },
  {
   "cell_type": "code",
   "execution_count": 42,
   "id": "e411b8fb",
   "metadata": {},
   "outputs": [
    {
     "data": {
      "image/png": "[encoded data removed]",
      "text/plain": [
       "<Figure size 1440x720 with 1 Axes>"
      ]
     },
     "metadata": {
      "needs_background": "light"
     },
     "output_type": "display_data"
    }
   ],
   "source": [
    "fig, ax= plt.subplots(figsize=(20,10))\n",
    "\n",
    "country_color = [\"darkblue\",\"gold\", \"gold\", \"dimgray\", \"dimgray\", \"dimgray\", \"dimgray\", \"dimgray\", \"dimgray\",\n",
    "             \"dimgray\",\"dimgray\",\"dimgray\"] # creating colors\n",
    "\n",
    "sns.countplot(y=\"Country\", data=df, order=df[\"Country\"].value_counts().index[:10],  palette=country_color, ax=ax)\n",
    "ax.set_title(\"\\nTen Countries with the Highest Number of Unicorns\\n\", fontsize=15, fontweight=\"normal\");\n",
    "ax.set_xlabel(\"\\nNumber of Unicorns\\n\", fontsize=15);\n",
    "ax.tick_params(axis=\"both\", labelsize=15)\n",
    "# percentage of unicorns per country\n",
    "top_10_countries = pd.crosstab(index=df[\"Country\"], columns=\"count\", normalize=True).sort_values(by=\"count\", ascending=False)\n"
   ]
  },
  {
   "cell_type": "markdown",
   "id": "1cc33511",
   "metadata": {},
   "source": [
    "1.74% of all unicorns belong to the United States, China, and India.\n",
    "2.The United States stands in first place with 54% of all unicorns."
   ]
  },
  {
   "cell_type": "markdown",
   "id": "14dbe90e",
   "metadata": {},
   "source": [
    "#### 2.Which are the ten cities with the most startups? Which are the top three?"
   ]
  },
  {
   "cell_type": "code",
   "execution_count": 43,
   "id": "02930327",
   "metadata": {},
   "outputs": [
    {
     "data": {
      "image/png": "[encoded data removed]",
      "text/plain": [
       "<Figure size 1440x720 with 1 Axes>"
      ]
     },
     "metadata": {
      "needs_background": "light"
     },
     "output_type": "display_data"
    }
   ],
   "source": [
    "fig, ax= plt.subplots(figsize=(20,10))\n",
    "city_color = [\"darkblue\",\"gold\", \"gold\", \"dimgray\", \"dimgray\", \"dimgray\", \"dimgray\", \"dimgray\", \"dimgray\",\n",
    "             \"dimgray\",\"dimgray\",\"dimgray\"] # creating colors\n",
    "\n",
    "sns.countplot(y=\"City\", data=df, order=df[\"City\"].value_counts().index[:10],  palette=city_color, ax=ax)\n",
    "ax.set_title(\"\\nTen City with the Highest Number of Unicorns\\n\", fontsize=15);\n",
    "ax.set_xlabel(\"\\nNumber of Unicorns\\n\", fontsize=10);\n",
    "ax.tick_params(axis=\"both\", labelsize=15)\n",
    "\n",
    "# percentage of unicorns per city\n",
    "top_10_city = pd.crosstab(index=df[\"City\"], columns=\"count\", normalize=True).sort_values(by=\"count\", ascending=False)\n",
    "top_10_city=round(top_10_city, ndigits=2) *100"
   ]
  },
  {
   "cell_type": "markdown",
   "id": "bd3724c5",
   "metadata": {},
   "source": [
    "1.28% of all unicorns belong to the San Francisco,New York, and Beijing. \n",
    "2.The San Francisco stands in first place with 14% of all unicorns"
   ]
  },
  {
   "cell_type": "code",
   "execution_count": 44,
   "id": "820db5b7",
   "metadata": {},
   "outputs": [
    {
     "data": {
      "image/png": "[encoded data removed]",
      "text/plain": [
       "<Figure size 1080x360 with 1 Axes>"
      ]
     },
     "metadata": {
      "needs_background": "light"
     },
     "output_type": "display_data"
    }
   ],
   "source": [
    "fig, ax= plt.subplots(figsize=(15,5))\n",
    "industry_color = [\"darkblue\",\"darkblue\", \"gold\", \"gold\", \"gold\", \"dimgray\", \"dimgray\",\n",
    "             \"dimgray\",\"dimgray\",\"dimgray\", \"dimgray\", \"dimgray\", \"dimgray\", \"dimgray\",  \"dimgray\"]\n",
    "\n",
    "sns.countplot(y=\"Industry\", data=df, order=df[\"Industry\"].value_counts().index,  palette=industry_color, ax=ax)\n",
    "ax.bar_label(ax.containers[0], label_type=\"edge\", padding=1); # add value lables\n",
    "ax.set_title(\"\\nIndustries with the Highest and Lowest Number of Unicorns\\n\", fontsize=11, fontweight=\"normal\");\n",
    "ax.set_ylabel(\" \", fontsize=13, fontweight=\"normal\");\n",
    "ax.set_xlabel(\"\\nNumber of Unicorns\\n\", fontsize=10);\n",
    "ax.tick_params(axis=\"both\", labelsize=10)\n",
    "# percentage of unicorns per indusrty\n",
    "top_10_industry = pd.crosstab(index=df[\"Industry\"], columns=\"count\", normalize=True).sort_values(by=\"count\", ascending=False)\n",
    "top_10_industry=round(top_10_industry, ndigits=2) *100"
   ]
  },
  {
   "cell_type": "markdown",
   "id": "118f38d1",
   "metadata": {},
   "source": [
    "1.The first five industry account for 64% of all unicorns.\n",
    "2.Fintech is the leading industry with 21% of all unicorns."
   ]
  },
  {
   "cell_type": "markdown",
   "id": "35ba5b9a",
   "metadata": {},
   "source": [
    "#### 4.Which are the most valuable unicorns? Which are the deacorns?"
   ]
  },
  {
   "cell_type": "code",
   "execution_count": 45,
   "id": "82503ee0",
   "metadata": {},
   "outputs": [
    {
     "data": {
      "image/png": "[encoded data removed]",
      "text/plain": [
       "<Figure size 576x360 with 1 Axes>"
      ]
     },
     "metadata": {
      "needs_background": "light"
     },
     "output_type": "display_data"
    }
   ],
   "source": [
    "# using croostable to extracting the data\n",
    "top_10_company = pd.crosstab(index=df.loc[:,\"Company\"], columns=\"Valuation_B$\", values=df.loc[:,\"Valuation_B$\"], aggfunc=\"sum\").sort_values(\n",
    "    by=\"Valuation_B$\",ascending=False)\n",
    "top_10_company.reset_index(inplace=True)\n",
    "top_10_company.rename(columns={\"index\": \"Company\"}, inplace=True)\n",
    "top_10_company= top_10_company[:10]\n",
    "fig, ax= plt.subplots(figsize=(8,5))\n",
    "unicorn_color = [\"darkblue\",\"gold\", \"gold\", \"goldenrod\", \"dimgray\", \"dimgray\", \"dimgray\", \"dimgray\", \"dimgray\",\n",
    "             \"dimgray\",\"dimgray\",\"dimgray\"] # creating colors\n",
    "sns.barplot(data=top_10_company, x=\"Valuation_B$\", y=\"Company\", orient=\"h\", ax=ax, palette= unicorn_color)\n",
    "ax.bar_label(ax.containers[0], label_type=\"edge\", padding=1); # add value lables\n",
    "ax.set_title(\"\\nTen Most Valuable Unicorns\\n\", fontsize=11, fontweight=\"normal\");\n",
    "ax.set_xlabel(\"\\nValuation in B$\\n\", fontsize=10);\n",
    "ax.tick_params(axis=\"both\", labelsize=9)"
   ]
  },
  {
   "cell_type": "markdown",
   "id": "6fa46b24",
   "metadata": {},
   "source": [
    "1.The top four unicorns are worth more than $50 billion.\n",
    "2.The most valuable companies are in China and the next two are in the United States.\n",
    "3.They operate in the following areas: Artificial Intelligence, Space & Communications,E-Commerce & Direct-to-Consumer, and Fintech.\n",
    "4.ByteDance is the Hecocorn, SpaceX and SHEIN are the Deacorns.\""
   ]
  },
  {
   "cell_type": "markdown",
   "id": "e6a54d6f",
   "metadata": {},
   "source": [
    "#### 5.How many companies have joined the club of unicorns each year? In which year do we have the most unicorns?"
   ]
  },
  {
   "cell_type": "code",
   "execution_count": 46,
   "id": "b264b155",
   "metadata": {},
   "outputs": [
    {
     "data": {
      "image/png": "[encoded data removed]",
      "text/plain": [
       "<Figure size 576x360 with 1 Axes>"
      ]
     },
     "metadata": {
      "needs_background": "light"
     },
     "output_type": "display_data"
    }
   ],
   "source": [
    "uni_year = pd.crosstab(index=df.loc[:,\"year\"], columns=\"Company\", values=df.loc[:,\"Company\"], aggfunc=\"count\").sort_values(\n",
    "    by=\"Company\",ascending=False)\n",
    "uni_year.reset_index(inplace=True)\n",
    "uni_year.rename(columns={\"index\": \"Company\"}, inplace=True)\n",
    "uni_year\n",
    "\n",
    "\n",
    "fig, ax= plt.subplots(figsize=(8,5))\n",
    "year_color = [\"darkblue\",\"darkblue\", \"darkblue\", \"darkblue\", \"darkblue\", \"darkblue\", \"darkblue\",\n",
    "             \"darkblue\",\"darkblue\",\"darkblue\",\"darkblue\", \"gold\"]\n",
    "\n",
    "sns.barplot(data=uni_year, x=\"Company\", y=\"year\", orient=\"h\", ax=ax, palette= year_color)\n",
    "ax.invert_yaxis()\n",
    "ax.set_title(\"\\nUnicorns Growth, Number of Unicron each Year\\n\", fontsize=11, fontweight=\"normal\");\n",
    "ax.set_ylabel(\" \", fontsize=9, fontweight=\"normal\");\n",
    "ax.set_xlabel(\"\\nValuation in B$\\n\", fontsize=10);\n",
    "ax.tick_params(axis=\"both\", labelsize=9)"
   ]
  },
  {
   "cell_type": "markdown",
   "id": "e0b90c3c",
   "metadata": {},
   "source": [
    "1.In 2021 we see a huge growth of Unicorns compared to the recent years\n",
    "2.The Big Picture here is imperessive: the number of Unicorns from 2016 with 21 has increased in five years to 528 in 2021 an increase of 2414"
   ]
  },
  {
   "cell_type": "markdown",
   "id": "394a39bb",
   "metadata": {},
   "source": [
    "#### 6.What is the Global unicorn activity by industry"
   ]
  },
  {
   "cell_type": "code",
   "execution_count": 47,
   "id": "f99c88c0",
   "metadata": {},
   "outputs": [
    {
     "data": {
      "text/html": [
       "<div>\n",
       "<style scoped>\n",
       "    .dataframe tbody tr th:only-of-type {\n",
       "        vertical-align: middle;\n",
       "    }\n",
       "\n",
       "    .dataframe tbody tr th {\n",
       "        vertical-align: top;\n",
       "    }\n",
       "\n",
       "    .dataframe thead th {\n",
       "        text-align: right;\n",
       "    }\n",
       "</style>\n",
       "<table border=\"1\" class=\"dataframe\">\n",
       "  <thead>\n",
       "    <tr style=\"text-align: right;\">\n",
       "      <th></th>\n",
       "      <th>Industry</th>\n",
       "      <th>Valuation_B$</th>\n",
       "      <th>Company</th>\n",
       "    </tr>\n",
       "  </thead>\n",
       "  <tbody>\n",
       "    <tr>\n",
       "      <th>0</th>\n",
       "      <td>Artificial Intelligence</td>\n",
       "      <td>377</td>\n",
       "      <td>84</td>\n",
       "    </tr>\n",
       "    <tr>\n",
       "      <th>1</th>\n",
       "      <td>Auto &amp; transportation</td>\n",
       "      <td>99</td>\n",
       "      <td>31</td>\n",
       "    </tr>\n",
       "  </tbody>\n",
       "</table>\n",
       "</div>"
      ],
      "text/plain": [
       "                  Industry  Valuation_B$  Company\n",
       "0  Artificial Intelligence           377       84\n",
       "1    Auto & transportation            99       31"
      ]
     },
     "execution_count": 47,
     "metadata": {},
     "output_type": "execute_result"
    }
   ],
   "source": [
    "global_val_ind = (df.groupby(\"Industry\")[[\"Valuation_B$\"]].agg(\"sum\"))\n",
    "global_com_ind = df.groupby(\"Industry\")[[\"Company\"]].agg(\"count\")\n",
    "global_act = global_val_ind.merge(global_com_ind, on=\"Industry\")\n",
    "global_act.reset_index(inplace=True)\n",
    "global_act.rename(columns={\"index\": \"Industry\"}, inplace=True)\n",
    "global_act.head(2)"
   ]
  },
  {
   "cell_type": "code",
   "execution_count": 48,
   "id": "d96dd0b4",
   "metadata": {
    "scrolled": false
   },
   "outputs": [
    {
     "data": {
      "image/png": "[encoded data removed]",
      "text/plain": [
       "<Figure size 1440x576 with 1 Axes>"
      ]
     },
     "metadata": {
      "needs_background": "light"
     },
     "output_type": "display_data"
    }
   ],
   "source": [
    "fig, ax= plt.subplots(figsize=(20,8))\n",
    "# bar plot\n",
    "sns.barplot(data=global_act, x=\"Industry\", y=\"Company\", orient=\"v\", ax=ax, palette = 'viridis')\n",
    "\n",
    "ax.bar_label(ax.containers[0], label_type=\"edge\", padding=1); # add value lables\n",
    "ax.spines.right.set_visible(False)\n",
    "ax.spines.top.set_visible(False)\n",
    "ax.set_title(\"\\n\\n\", fontsize=15, fontweight=\"normal\");\n",
    "ax.set_ylabel(\"Total Valuation and NUmber (gold line) of unicorns per Industry (darkblue line)\", fontsize=9, fontweight=\"normal\");\n",
    "ax.tick_params(axis=\"both\", labelsize=10)\n",
    "ax.xaxis.set_tick_params(labelrotation=90)"
   ]
  },
  {
   "cell_type": "markdown",
   "id": "b50576d5",
   "metadata": {},
   "source": [
    "1.Fintech, Internet & Services,E-Commerce & direc-to-consumer,Artificial intelligence are top Industry of inverstors.\n",
    "2.Fintech with more than 890 $B is in the firts."
   ]
  },
  {
   "cell_type": "markdown",
   "id": "d052e8ff",
   "metadata": {},
   "source": [
    "# Conclusion:"
   ]
  },
  {
   "cell_type": "markdown",
   "id": "55010b5f",
   "metadata": {},
   "source": [
    "##### We've seen that with some code from pandas and numpy libraries, we can extract and analyze data that helps us understand the current state of unicorns in the world. And of course, matplotlib and seaborn will help us visualize our results so we can understand them even better. But before we explore the data, the most important phase is cleaning the data, without which we might encounter some problems and our analysis might be affected."
   ]
  }
 ],
 "metadata": {
  "kernelspec": {
   "display_name": "Python 3 (ipykernel)",
   "language": "python",
   "name": "python3"
  },
  "language_info": {
   "codemirror_mode": {
    "name": "ipython",
    "version": 3
   },
   "file_extension": ".py",
   "mimetype": "text/x-python",
   "name": "python",
   "nbconvert_exporter": "python",
   "pygments_lexer": "ipython3",
   "version": "3.9.7"
  }
 },
 "nbformat": 4,
 "nbformat_minor": 5
}
